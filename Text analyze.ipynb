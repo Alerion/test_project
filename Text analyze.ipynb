{
 "cells": [
  {
   "cell_type": "code",
   "execution_count": 133,
   "metadata": {},
   "outputs": [],
   "source": [
    "# https://github.com/RaRe-Technologies/gensim/blob/develop/docs/notebooks/doc2vec-lee.ipynb\n",
    "from collections import namedtuple\n",
    "\n",
    "from gensim.summarization.textcleaner import get_sentences\n",
    "from gensim.models.doc2vec import TaggedDocument, Doc2Vec\n",
    "\n",
    "\n",
    "class TaggedDocument(namedtuple('TaggedDocument', 'words tags original')):\n",
    "    \"\"\" Based on gensim's TaggedDocument. \"original\" field is added. \"\"\"\n",
    "    # FIXME: Extend class to keep all methods.\n",
    "    \n",
    "    def __str__(self):\n",
    "        return '%s(%s, %s)' % (self.__class__.__name__, self.words, self.tags)\n",
    "\n",
    "\n",
    "def read_corpus(fname):\n",
    "    with open(fname) as f:\n",
    "        text = f.read()\n",
    "        text = text.replace('\\n', '')\n",
    "        for i, sentence in enumerate(get_sentences(text)):\n",
    "            yield TaggedDocument(gensim.utils.simple_preprocess(sentence), [i], sentence)"
   ]
  },
  {
   "cell_type": "code",
   "execution_count": 134,
   "metadata": {},
   "outputs": [],
   "source": [
    "train_corpus = list(read_corpus('book.txt'))"
   ]
  },
  {
   "cell_type": "code",
   "execution_count": 135,
   "metadata": {},
   "outputs": [],
   "source": [
    "model = Doc2Vec(vector_size=50, min_count=2, epochs=40, train_lbls=False)\n",
    "model.build_vocab(train_corpus)\n",
    "model.train(train_corpus, total_examples=model.corpus_count, epochs=model.epochs)"
   ]
  },
  {
   "cell_type": "code",
   "execution_count": 136,
   "metadata": {},
   "outputs": [
    {
     "name": "stdout",
     "output_type": "stream",
     "text": [
      "Target: A rough sketch of the circumstances which led up to my being taken aprisoner of war are more or less indispensable.\n",
      "[1.0] A rough sketch of the circumstances which led up to my being taken aprisoner of war are more or less indispensable.\n",
      "[0.9776094555854797] The more escapes, the more guards necessary to prevent them, themore electric lights or oil lamps to show up the designs of the escapersby night, the continual supply of coal and oil necessary to feed theselights, slowly but very surely help to drain the resources of theBoches.\n",
      "[0.9711006283760071] Theywere certainly boundary-posts of some kind.\n",
      "[0.9675556421279907] Do not unlink or detach or remove the full Project Gutenberg-tmLicense terms from this work, or any files containing a part of thiswork or any other work associated with Project Gutenberg-tm.1.E.5.\n",
      "[0.961080014705658] YOU AGREE THAT YOU HAVE NO REMEDIES FOR NEGLIGENCE, STRICTLIABILITY, BREACH OF WARRANTY OR BREACH OF CONTRACT EXCEPT THOSEPROVIDED IN PARAGRAPH 1.F.3.\n",
      "[0.9561249017715454] This was one of the finest efforts I have seen, asthe chance of reaching the other side of the moat alive was almost_nil_.\n",
      "[0.9548470973968506] Our guard consisted of this officer, who was a coarsebullet-headed Bavarian lieutenant, and about nine men, if I rememberaright, all of them being fully armed and evidently warned to keep theireyes skinned.\n",
      "[0.9548426270484924] On the wholethe people looked overworked and underfed, going about their duties ina morose sort of doggedness.\n",
      "[0.9542466998100281] Of course, this always caused a certain amount of excitement,since everybody had something to hide--an electric torch, pieces ofrope, money, and whatever the Boches might happen to be after at thetime.These searches took place periodically, about every six weeks, I shouldsay.\n",
      "[0.9526904821395874] Whenhe attended the early-morning parade, he would shout and scream himselfhoarse, calling us, “Schweinhunde, alle der Englander sind Schweinhunde,meine Herren” (All the English officers are dogs of swine).\n"
     ]
    },
    {
     "name": "stderr",
     "output_type": "stream",
     "text": [
      "/Users/admin/Workspace/test_project/venv/lib/python3.6/site-packages/gensim/matutils.py:737: FutureWarning: Conversion of the second argument of issubdtype from `int` to `np.signedinteger` is deprecated. In future, it will be treated as `np.int64 == np.dtype(int).type`.\n",
      "  if np.issubdtype(vec.dtype, np.int):\n"
     ]
    }
   ],
   "source": [
    "target_id = 0\n",
    "print('Target: {}'.format(train_corpus[target_id].original))\n",
    "\n",
    "similarity = {}\n",
    "for i, sentence in enumerate(train_corpus):\n",
    "    similarity[i] = model.docvecs.similarity(target_id, i)\n",
    "    \n",
    "sorted_similarity = sorted(similarity.items(), key=lambda item: item[1], reverse=True)\n",
    "\n",
    "for i, value in sorted_similarity[:10]:\n",
    "    print('[{}] {}'.format(value, train_corpus[i].original))"
   ]
  },
  {
   "cell_type": "code",
   "execution_count": null,
   "metadata": {},
   "outputs": [],
   "source": []
  }
 ],
 "metadata": {
  "kernelspec": {
   "display_name": "Python 3",
   "language": "python",
   "name": "python3"
  },
  "language_info": {
   "codemirror_mode": {
    "name": "ipython",
    "version": 3
   },
   "file_extension": ".py",
   "mimetype": "text/x-python",
   "name": "python",
   "nbconvert_exporter": "python",
   "pygments_lexer": "ipython3",
   "version": "3.6.5"
  }
 },
 "nbformat": 4,
 "nbformat_minor": 2
}
